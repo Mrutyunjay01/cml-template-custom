{
 "cells": [
  {
   "cell_type": "markdown",
   "metadata": {},
   "source": [
    "# Import SRC"
   ]
  },
  {
   "cell_type": "code",
   "execution_count": 2,
   "metadata": {
    "collapsed": true
   },
   "outputs": [
    {
     "name": "stdout",
     "output_type": "stream",
     "text": [
      "{'data': {'inp': './../inp', 'out': './../out'}, 'logs': './../logs'}\n"
     ]
    }
   ],
   "source": [
    "import os\n",
    "import sys\n",
    "\n",
    "curr_dir = os.path.dirname(os.path.realpath('__file__'))\n",
    "proj_dir = os.path.abspath(os.path.join(curr_dir, '..'))\n",
    "\n",
    "sys.path.append(proj_dir)\n",
    "\n",
    "from src.configuration import load_config\n",
    "\n",
    "cfg = load_config()\n",
    "print(cfg)"
   ]
  }
 ],
 "metadata": {
  "kernelspec": {
   "display_name": "Python 3",
   "language": "python",
   "name": "python3"
  },
  "language_info": {
   "codemirror_mode": {
    "name": "ipython",
    "version": 3
   },
   "file_extension": ".py",
   "mimetype": "text/x-python",
   "name": "python",
   "nbconvert_exporter": "python",
   "pygments_lexer": "ipython3",
   "version": "3.10.6"
  }
 },
 "nbformat": 4,
 "nbformat_minor": 0
}
